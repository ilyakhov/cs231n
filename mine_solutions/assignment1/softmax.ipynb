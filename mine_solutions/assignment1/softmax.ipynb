{
 "cells": [
  {
   "cell_type": "markdown",
   "metadata": {},
   "source": [
    "# Softmax exercise\n",
    "\n",
    "*Complete and hand in this completed worksheet (including its outputs and any supporting code outside of the worksheet) with your assignment submission. For more details see the [assignments page](http://vision.stanford.edu/teaching/cs231n/assignments.html) on the course website.*\n",
    "\n",
    "This exercise is analogous to the SVM exercise. You will:\n",
    "\n",
    "- implement a fully-vectorized **loss function** for the Softmax classifier\n",
    "- implement the fully-vectorized expression for its **analytic gradient**\n",
    "- **check your implementation** with numerical gradient\n",
    "- use a validation set to **tune the learning rate and regularization** strength\n",
    "- **optimize** the loss function with **SGD**\n",
    "- **visualize** the final learned weights\n"
   ]
  },
  {
   "cell_type": "code",
   "execution_count": 6,
   "metadata": {
    "collapsed": false
   },
   "outputs": [
    {
     "name": "stdout",
     "output_type": "stream",
     "text": [
      "The autoreload extension is already loaded. To reload it, use:\n",
      "  %reload_ext autoreload\n"
     ]
    }
   ],
   "source": [
    "import random\n",
    "import numpy as np\n",
    "from cs231n.data_utils import load_CIFAR10\n",
    "import matplotlib.pyplot as plt\n",
    "\n",
    "from __future__ import print_function\n",
    "\n",
    "%matplotlib inline\n",
    "plt.rcParams['figure.figsize'] = (10.0, 8.0) # set default size of plots\n",
    "plt.rcParams['image.interpolation'] = 'nearest'\n",
    "plt.rcParams['image.cmap'] = 'gray'\n",
    "\n",
    "# for auto-reloading extenrnal modules\n",
    "# see http://stackoverflow.com/questions/1907993/autoreload-of-modules-in-ipython\n",
    "%load_ext autoreload\n",
    "%autoreload 2"
   ]
  },
  {
   "cell_type": "code",
   "execution_count": 7,
   "metadata": {
    "collapsed": false
   },
   "outputs": [
    {
     "name": "stdout",
     "output_type": "stream",
     "text": [
      "batches.meta  data_batch_2  data_batch_4  readme.html\r\n",
      "data_batch_1  data_batch_3  data_batch_5  test_batch\r\n"
     ]
    }
   ],
   "source": [
    "ls cifar-10-batches-py/"
   ]
  },
  {
   "cell_type": "code",
   "execution_count": 8,
   "metadata": {
    "collapsed": false
   },
   "outputs": [
    {
     "name": "stdout",
     "output_type": "stream",
     "text": [
      "Train data shape:  (49000, 3073)\n",
      "Train labels shape:  (49000,)\n",
      "Validation data shape:  (1000, 3073)\n",
      "Validation labels shape:  (1000,)\n",
      "Test data shape:  (1000, 3073)\n",
      "Test labels shape:  (1000,)\n",
      "dev data shape:  (500, 3073)\n",
      "dev labels shape:  (500,)\n"
     ]
    }
   ],
   "source": [
    "def get_CIFAR10_data(num_training=49000, num_validation=1000, num_test=1000, num_dev=500):\n",
    "    \"\"\"\n",
    "    Load the CIFAR-10 dataset from disk and perform preprocessing to prepare\n",
    "    it for the linear classifier. These are the same steps as we used for the\n",
    "    SVM, but condensed to a single function.  \n",
    "    \"\"\"\n",
    "    # Load the raw CIFAR-10 data\n",
    "    cifar10_dir = 'cifar-10-batches-py'\n",
    "    X_train, y_train, X_test, y_test = load_CIFAR10(cifar10_dir)\n",
    "    \n",
    "    # subsample the data\n",
    "    mask = list(range(num_training, num_training + num_validation))\n",
    "    X_val = X_train[mask]\n",
    "    y_val = y_train[mask]\n",
    "    mask = list(range(num_training))\n",
    "    X_train = X_train[mask]\n",
    "    y_train = y_train[mask]\n",
    "    mask = list(range(num_test))\n",
    "    X_test = X_test[mask]\n",
    "    y_test = y_test[mask]\n",
    "    mask = np.random.choice(num_training, num_dev, replace=False)\n",
    "    X_dev = X_train[mask]\n",
    "    y_dev = y_train[mask]\n",
    "    \n",
    "    # Preprocessing: reshape the image data into rows\n",
    "    X_train = np.reshape(X_train, (X_train.shape[0], -1))\n",
    "    X_val = np.reshape(X_val, (X_val.shape[0], -1))\n",
    "    X_test = np.reshape(X_test, (X_test.shape[0], -1))\n",
    "    X_dev = np.reshape(X_dev, (X_dev.shape[0], -1))\n",
    "    \n",
    "    # Normalize the data: subtract the mean image\n",
    "    mean_image = np.mean(X_train, axis = 0)\n",
    "    X_train -= mean_image\n",
    "    X_val -= mean_image\n",
    "    X_test -= mean_image\n",
    "    X_dev -= mean_image\n",
    "    \n",
    "    # add bias dimension and transform into columns\n",
    "    X_train = np.hstack([X_train, np.ones((X_train.shape[0], 1))])\n",
    "    X_val = np.hstack([X_val, np.ones((X_val.shape[0], 1))])\n",
    "    X_test = np.hstack([X_test, np.ones((X_test.shape[0], 1))])\n",
    "    X_dev = np.hstack([X_dev, np.ones((X_dev.shape[0], 1))])\n",
    "    \n",
    "    return X_train, y_train, X_val, y_val, X_test, y_test, X_dev, y_dev\n",
    "\n",
    "\n",
    "# Invoke the above function to get our data.\n",
    "X_train, y_train, X_val, y_val, X_test, y_test, X_dev, y_dev = get_CIFAR10_data()\n",
    "print('Train data shape: ', X_train.shape)\n",
    "print('Train labels shape: ', y_train.shape)\n",
    "print('Validation data shape: ', X_val.shape)\n",
    "print('Validation labels shape: ', y_val.shape)\n",
    "print('Test data shape: ', X_test.shape)\n",
    "print('Test labels shape: ', y_test.shape)\n",
    "print('dev data shape: ', X_dev.shape)\n",
    "print('dev labels shape: ', y_dev.shape)"
   ]
  },
  {
   "cell_type": "markdown",
   "metadata": {},
   "source": [
    "## Softmax Classifier\n",
    "\n",
    "Your code for this section will all be written inside **cs231n/classifiers/softmax.py**. \n"
   ]
  },
  {
   "cell_type": "code",
   "execution_count": 11,
   "metadata": {
    "collapsed": false
   },
   "outputs": [
    {
     "name": "stdout",
     "output_type": "stream",
     "text": [
      "loss: 2.387421\n",
      "sanity check: 2.302585\n"
     ]
    }
   ],
   "source": [
    "# First implement the naive softmax loss function with nested loops.\n",
    "# Open the file cs231n/classifiers/softmax.py and implement the\n",
    "# softmax_loss_naive function.\n",
    "\n",
    "from cs231n.classifiers.softmax import softmax_loss_naive\n",
    "import time\n",
    "\n",
    "# Generate a random softmax weight matrix and use it to compute the loss.\n",
    "W = np.random.randn(3073, 10) * 0.0001\n",
    "loss, grad = softmax_loss_naive(W, X_dev, y_dev, 0.0)\n",
    "\n",
    "# As a rough sanity check, our loss should be something close to -log(0.1).\n",
    "print('loss: %f' % loss)\n",
    "print('sanity check: %f' % (-np.log(0.1)))"
   ]
  },
  {
   "cell_type": "markdown",
   "metadata": {},
   "source": [
    "## Inline Question 1:\n",
    "Why do we expect our loss to be close to -log(0.1)? Explain briefly.**\n",
    "\n",
    "**Your answer:** *Fill this in*\n"
   ]
  },
  {
   "cell_type": "code",
   "execution_count": 93,
   "metadata": {
    "collapsed": false
   },
   "outputs": [
    {
     "name": "stdout",
     "output_type": "stream",
     "text": [
      "numerical: -5.222430 analytic: -5.222430, relative error: 7.433390e-09\n",
      "numerical: -0.336114 analytic: -0.336114, relative error: 1.612658e-08\n",
      "numerical: -2.000976 analytic: -2.000976, relative error: 3.084656e-09\n",
      "numerical: 1.862910 analytic: 1.862910, relative error: 3.403635e-08\n",
      "numerical: 1.681961 analytic: 1.681961, relative error: 2.954361e-08\n",
      "numerical: -6.255943 analytic: -6.255943, relative error: 5.573349e-09\n",
      "numerical: -0.510149 analytic: -0.510149, relative error: 7.354326e-08\n",
      "numerical: -0.500391 analytic: -0.500391, relative error: 2.416733e-08\n",
      "numerical: 3.199870 analytic: 3.199870, relative error: 5.525432e-09\n",
      "numerical: -1.512487 analytic: -1.512487, relative error: 4.718922e-09\n",
      "-----------------------------------\n",
      "numerical: 1.365534 analytic: 1.366128, relative error: 2.174346e-04\n",
      "numerical: 1.593950 analytic: 1.594767, relative error: 2.562030e-04\n",
      "numerical: 0.391759 analytic: 0.393918, relative error: 2.748298e-03\n",
      "numerical: 3.946645 analytic: 3.944487, relative error: 2.734979e-04\n",
      "numerical: 0.672926 analytic: 0.674590, relative error: 1.234572e-03\n",
      "numerical: 4.086029 analytic: 4.095381, relative error: 1.143077e-03\n",
      "numerical: 2.560219 analytic: 2.553740, relative error: 1.266904e-03\n",
      "numerical: 1.029622 analytic: 1.026113, relative error: 1.706888e-03\n",
      "numerical: 0.546684 analytic: 0.549142, relative error: 2.242591e-03\n",
      "numerical: -1.501861 analytic: -1.503044, relative error: 3.938310e-04\n"
     ]
    }
   ],
   "source": [
    "# Complete the implementation of softmax_loss_naive and implement a (naive)\n",
    "# version of the gradient that uses nested loops.\n",
    "loss, grad = softmax_loss_naive(W, X_dev, y_dev, 0.0)\n",
    "\n",
    "# As we did for the SVM, use numeric gradient checking as a debugging tool.\n",
    "# The numeric gradient should be close to the analytic gradient.\n",
    "from cs231n.gradient_check import grad_check_sparse\n",
    "f = lambda w: softmax_loss_naive(w, X_dev, y_dev, 0.0)[0]\n",
    "grad_numerical = grad_check_sparse(f, W, grad, 10)\n",
    "\n",
    "print(\"-----------------------------------\")\n",
    "\n",
    "# similar to SVM case, do another gradient check with regularization\n",
    "loss, grad = softmax_loss_naive(W, X_dev, y_dev, 5e1)\n",
    "f = lambda w: softmax_loss_naive(w, X_dev, y_dev, 5e1)[0]\n",
    "grad_numerical = grad_check_sparse(f, W, grad, 10)"
   ]
  },
  {
   "cell_type": "code",
   "execution_count": 18,
   "metadata": {
    "collapsed": false
   },
   "outputs": [
    {
     "data": {
      "text/plain": [
       "array([[ 0.1,  0.4],\n",
       "       [ 0.2,  0.6],\n",
       "       [ 0.3,  0.8],\n",
       "       [ 0.4,  1. ],\n",
       "       [ 0.5,  1.2]])"
      ]
     },
     "execution_count": 18,
     "metadata": {},
     "output_type": "execute_result"
    }
   ],
   "source": [
    "a = np.array([[1,2,3,4,5], [2,3,4,5,6]])\n",
    "v = np.array([0.1, 0.2])\n",
    "a.T*v"
   ]
  },
  {
   "cell_type": "code",
   "execution_count": 28,
   "metadata": {
    "collapsed": false
   },
   "outputs": [
    {
     "data": {
      "text/plain": [
       "array([[ 10.,  10.],\n",
       "       [ 20.,  15.],\n",
       "       [ 30.,  20.],\n",
       "       [ 40.,  25.],\n",
       "       [ 50.,  30.]])"
      ]
     },
     "execution_count": 28,
     "metadata": {},
     "output_type": "execute_result"
    }
   ],
   "source": [
    "np.divide(a.T, v)"
   ]
  },
  {
   "cell_type": "code",
   "execution_count": 48,
   "metadata": {
    "collapsed": false
   },
   "outputs": [
    {
     "data": {
      "text/plain": [
       "(array([1, 2, 3, 4, 5]), array([2, 2, 2, 2, 1]))"
      ]
     },
     "execution_count": 48,
     "metadata": {},
     "output_type": "execute_result"
    }
   ],
   "source": [
    "np.unique([1,2,3,4,1,2,3,4,5], return_counts=True)"
   ]
  },
  {
   "cell_type": "code",
   "execution_count": 79,
   "metadata": {
    "collapsed": false
   },
   "outputs": [
    {
     "name": "stdout",
     "output_type": "stream",
     "text": [
      "naive loss: 2.387421e+00 computed in 0.167039s\n",
      "((500,), (500,))\n",
      "((500, 10), (500, 1))\n",
      "vectorized loss: 2.387421e+00 computed in 0.003070s\n",
      "Loss difference: 0.000000\n",
      "Gradient difference: 0.000000\n"
     ]
    }
   ],
   "source": [
    "# Now that we have a naive implementation of the softmax loss function and its gradient,\n",
    "# implement a vectorized version in softmax_loss_vectorized.\n",
    "# The two versions should compute the same results, but the vectorized version should be\n",
    "# much faster.\n",
    "tic = time.time()\n",
    "loss_naive, grad_naive = softmax_loss_naive(W, X_dev, y_dev, 0.000005)\n",
    "toc = time.time()\n",
    "print('naive loss: %e computed in %fs' % (loss_naive, toc - tic))\n",
    "\n",
    "from cs231n.classifiers.softmax import softmax_loss_vectorized\n",
    "tic = time.time()\n",
    "loss_vectorized, grad_vectorized = softmax_loss_vectorized(W, X_dev, y_dev, 0.000005)\n",
    "toc = time.time()\n",
    "print('vectorized loss: %e computed in %fs' % (loss_vectorized, toc - tic))\n",
    "\n",
    "# As we did for the SVM, we use the Frobenius norm to compare the two versions\n",
    "# of the gradient.\n",
    "grad_difference = np.linalg.norm(grad_naive - grad_vectorized, ord='fro')\n",
    "print('Loss difference: %f' % np.abs(loss_naive - loss_vectorized))\n",
    "print('Gradient difference: %f' % grad_difference)"
   ]
  },
  {
   "cell_type": "code",
   "execution_count": 75,
   "metadata": {
    "collapsed": false
   },
   "outputs": [],
   "source": [
    "np.broadcast_to?"
   ]
  },
  {
   "cell_type": "code",
   "execution_count": 84,
   "metadata": {
    "collapsed": false
   },
   "outputs": [],
   "source": [
    "sf = Softmax()\n",
    "sf.train?"
   ]
  },
  {
   "cell_type": "code",
   "execution_count": 94,
   "metadata": {
    "collapsed": false
   },
   "outputs": [
    {
     "name": "stdout",
     "output_type": "stream",
     "text": [
      "training accuracy: 0.245857\n",
      "testing accuracy: 0.231000\n",
      "training accuracy: 0.254102\n",
      "testing accuracy: 0.241000\n",
      "training accuracy: 0.328837\n",
      "testing accuracy: 0.315000\n",
      "training accuracy: 0.341000\n",
      "testing accuracy: 0.350000\n",
      "training accuracy: 0.312143\n",
      "testing accuracy: 0.326000\n",
      "training accuracy: 0.284265\n",
      "testing accuracy: 0.304000\n",
      "training accuracy: 0.288694\n",
      "testing accuracy: 0.271000\n",
      "training accuracy: 0.352449\n",
      "testing accuracy: 0.359000\n",
      "training accuracy: 0.321694\n",
      "testing accuracy: 0.326000\n",
      "training accuracy: 0.290224\n",
      "testing accuracy: 0.301000\n",
      "training accuracy: 0.341265\n",
      "testing accuracy: 0.347000\n",
      "training accuracy: 0.319082\n",
      "testing accuracy: 0.324000\n",
      "training accuracy: 0.287041\n",
      "testing accuracy: 0.288000\n",
      "training accuracy: 0.227020\n",
      "testing accuracy: 0.249000\n",
      "training accuracy: 0.244776\n",
      "testing accuracy: 0.262000\n",
      "training accuracy: 0.321673\n",
      "testing accuracy: 0.316000\n",
      "training accuracy: 0.297388\n",
      "testing accuracy: 0.293000\n",
      "training accuracy: 0.258980\n",
      "testing accuracy: 0.258000\n",
      "training accuracy: 0.242429\n",
      "testing accuracy: 0.250000\n",
      "training accuracy: 0.165837\n",
      "testing accuracy: 0.166000\n",
      "\n",
      "lr 5.000000e-08 reg 2.500000e+02 train accuracy: 0.245857 val accuracy: 0.231000\n",
      "lr 5.000000e-08 reg 1.000000e+03 train accuracy: 0.254102 val accuracy: 0.241000\n",
      "lr 5.000000e-08 reg 1.000000e+04 train accuracy: 0.328837 val accuracy: 0.315000\n",
      "lr 5.000000e-08 reg 2.500000e+04 train accuracy: 0.341000 val accuracy: 0.350000\n",
      "lr 5.000000e-08 reg 5.000000e+04 train accuracy: 0.312143 val accuracy: 0.326000\n",
      "lr 1.000000e-07 reg 2.500000e+02 train accuracy: 0.284265 val accuracy: 0.304000\n",
      "lr 1.000000e-07 reg 1.000000e+03 train accuracy: 0.288694 val accuracy: 0.271000\n",
      "lr 1.000000e-07 reg 1.000000e+04 train accuracy: 0.352449 val accuracy: 0.359000\n",
      "lr 1.000000e-07 reg 2.500000e+04 train accuracy: 0.321694 val accuracy: 0.326000\n",
      "lr 1.000000e-07 reg 5.000000e+04 train accuracy: 0.290224 val accuracy: 0.301000\n",
      "lr 5.000000e-07 reg 2.500000e+02 train accuracy: 0.341265 val accuracy: 0.347000\n",
      "lr 5.000000e-07 reg 1.000000e+03 train accuracy: 0.319082 val accuracy: 0.324000\n",
      "lr 5.000000e-07 reg 1.000000e+04 train accuracy: 0.287041 val accuracy: 0.288000\n",
      "lr 5.000000e-07 reg 2.500000e+04 train accuracy: 0.227020 val accuracy: 0.249000\n",
      "lr 5.000000e-07 reg 5.000000e+04 train accuracy: 0.244776 val accuracy: 0.262000\n",
      "lr 1.000000e-06 reg 2.500000e+02 train accuracy: 0.321673 val accuracy: 0.316000\n",
      "lr 1.000000e-06 reg 1.000000e+03 train accuracy: 0.297388 val accuracy: 0.293000\n",
      "lr 1.000000e-06 reg 1.000000e+04 train accuracy: 0.258980 val accuracy: 0.258000\n",
      "lr 1.000000e-06 reg 2.500000e+04 train accuracy: 0.242429 val accuracy: 0.250000\n",
      "lr 1.000000e-06 reg 5.000000e+04 train accuracy: 0.165837 val accuracy: 0.166000\n",
      "best validation accuracy achieved during cross-validation: 0.359000\n"
     ]
    }
   ],
   "source": [
    "from tqdm import tqdm_notebook as tqdm\n",
    "\n",
    "# Use the validation set to tune hyperparameters (regularization strength and\n",
    "# learning rate). You should experiment with different ranges for the learning\n",
    "# rates and regularization strengths; if you are careful you should be able to\n",
    "# get a classification accuracy of over 0.35 on the validation set.\n",
    "from cs231n.classifiers import Softmax\n",
    "results = {}\n",
    "best_val = -1\n",
    "best_softmax = None\n",
    "learning_rates = [5e-8, 1e-7, 5e-7, 1e-6]\n",
    "regularization_strengths = [2.5e2, 1e3, 1e4, 2.5e4, 5e4]\n",
    "\n",
    "################################################################################\n",
    "# TODO:                                                                        #\n",
    "# Use the validation set to set the learning rate and regularization strength. #\n",
    "# This should be identical to the validation that you did for the SVM; save    #\n",
    "# the best trained softmax classifer in best_softmax.                          #\n",
    "################################################################################\n",
    "_X_train = X_train\n",
    "_y_train = y_train\n",
    "for lrate in tqdm(learning_rates):\n",
    "    for reg_strength in tqdm(regularization_strengths):\n",
    "        softmax = Softmax()\n",
    "        num_iters = 3000\n",
    "        softmax.train(_X_train, _y_train, learning_rate=lrate, reg=reg_strength,\n",
    "                  num_iters=num_iters, verbose=False)\n",
    "        y_train_pred = softmax.predict(_X_train)\n",
    "        y_val_pred = softmax.predict(X_val)\n",
    "        train_acc = np.mean(_y_train == y_train_pred)\n",
    "        test_acc = np.mean(y_val == y_val_pred)\n",
    "        best_val = max(test_acc, best_val)\n",
    "        if best_val == test_acc:\n",
    "            best_softmax = softmax\n",
    "        print('training accuracy: %f' % (train_acc, ))\n",
    "        print('testing accuracy: %f' % (test_acc, ))\n",
    "        results[(lrate, reg_strength)] = (train_acc, test_acc)\n",
    "        \n",
    "################################################################################\n",
    "#                              END OF YOUR CODE                                #\n",
    "################################################################################\n",
    "    \n",
    "# Print out results.\n",
    "for lr, reg in sorted(results):\n",
    "    train_accuracy, val_accuracy = results[(lr, reg)]\n",
    "    print('lr %e reg %e train accuracy: %f val accuracy: %f' % (\n",
    "                lr, reg, train_accuracy, val_accuracy))\n",
    "    \n",
    "print('best validation accuracy achieved during cross-validation: %f' % best_val)"
   ]
  },
  {
   "cell_type": "code",
   "execution_count": 91,
   "metadata": {
    "collapsed": false
   },
   "outputs": [
    {
     "name": "stdout",
     "output_type": "stream",
     "text": [
      "softmax on raw pixels final test set accuracy: 0.314000\n"
     ]
    }
   ],
   "source": [
    "# evaluate on test set\n",
    "# Evaluate the best softmax on test set\n",
    "y_test_pred = best_softmax.predict(X_test)\n",
    "test_accuracy = np.mean(y_test == y_test_pred)\n",
    "print('softmax on raw pixels final test set accuracy: %f' % (test_accuracy, ))"
   ]
  },
  {
   "cell_type": "code",
   "execution_count": 92,
   "metadata": {
    "collapsed": false
   },
   "outputs": [
    {
     "data": {
      "image/png": "[encoded data removed]",
      "text/plain": [
       "<matplotlib.figure.Figure at 0x7fb174d0a650>"
      ]
     },
     "metadata": {},
     "output_type": "display_data"
    }
   ],
   "source": [
    "# Visualize the learned weights for each class\n",
    "w = best_softmax.W[:-1,:] # strip out the bias\n",
    "w = w.reshape(32, 32, 3, 10)\n",
    "\n",
    "w_min, w_max = np.min(w), np.max(w)\n",
    "\n",
    "classes = ['plane', 'car', 'bird', 'cat', 'deer', 'dog', 'frog', 'horse', 'ship', 'truck']\n",
    "for i in range(10):\n",
    "    plt.subplot(2, 5, i + 1)\n",
    "    \n",
    "    # Rescale the weights to be between 0 and 255\n",
    "    wimg = 255.0 * (w[:, :, :, i].squeeze() - w_min) / (w_max - w_min)\n",
    "    plt.imshow(wimg.astype('uint8'))\n",
    "    plt.axis('off')\n",
    "    plt.title(classes[i])"
   ]
  },
  {
   "cell_type": "code",
   "execution_count": null,
   "metadata": {
    "collapsed": true
   },
   "outputs": [],
   "source": []
  }
 ],
 "metadata": {
  "anaconda-cloud": {},
  "kernelspec": {
   "display_name": "Python [default]",
   "language": "python",
   "name": "python2"
  },
  "language_info": {
   "codemirror_mode": {
    "name": "ipython",
    "version": 2
   },
   "file_extension": ".py",
   "mimetype": "text/x-python",
   "name": "python",
   "nbconvert_exporter": "python",
   "pygments_lexer": "ipython2",
   "version": "2.7.12"
  }
 },
 "nbformat": 4,
 "nbformat_minor": 1
}
